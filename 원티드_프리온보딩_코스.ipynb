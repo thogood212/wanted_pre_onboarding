{
  "nbformat": 4,
  "nbformat_minor": 0,
  "metadata": {
    "colab": {
      "name": "원티드 프리온보딩 코스.ipynb",
      "provenance": [],
      "collapsed_sections": []
    },
    "kernelspec": {
      "name": "python3",
      "display_name": "Python 3"
    },
    "language_info": {
      "name": "python"
    }
  },
  "cells": [
    {
      "cell_type": "markdown",
      "source": [
        "### **문제 1) Tokenizer 생성하기**\n",
        "\n",
        "**1-1. `preprocessing()`**\n",
        "\n",
        "텍스트 전처리를 하는 함수입니다.\n",
        "\n",
        "- input: 여러 영어 문장이 포함된 list 입니다. ex) ['I go to school.', 'I LIKE pizza!']\n",
        "- output: 각 문장을 토큰화한 결과로, nested list 형태입니다. ex) [['i', 'go', 'to', 'school'], ['i', 'like', 'pizza']]\n",
        "- 조건 1: 입력된 문장에 대해서 소문자로의 변환과 특수문자 제거를 수행합니다.\n",
        "- 조건 2: 토큰화는 white space 단위로 수행합니다."
      ],
      "metadata": {
        "id": "OBo2vSw5RuKn"
      }
    },
    {
      "cell_type": "markdown",
      "source": [
        "**1-2. `fit()`**\n",
        "\n",
        "어휘 사전을 구축하는 함수입니다.\n",
        "\n",
        "- input: 여러 영어 문장이 포함된 list 입니다. ex) ['I go to school.', 'I LIKE pizza!']\n",
        "- 조건 1: 위에서 만든 `preprocessing` 함수를 이용하여 각 문장에 대해 토큰화를 수행합니다.\n",
        "- 조건 2: 각각의 토큰을 정수 인덱싱 하기 위한 어휘 사전(`self.word_dict`)을 생성합니다.\n",
        "    - 주어진 코드에 있는 `self.word_dict`를 활용합니다."
      ],
      "metadata": {
        "id": "a4-oBkIfYiDO"
      }
    },
    {
      "cell_type": "markdown",
      "source": [
        "**1-3. `transform()`**\n",
        "\n",
        "어휘 사전을 활용하여 입력 문장을 정수 인덱싱하는 함수입니다.\n",
        "\n",
        "- input: 여러 영어 문장이 포함된 list입니다. ex) ['I go to school.', 'I LIKE pizza!']\n",
        "- output: 각 문장의 정수 인덱싱으로, nested list 형태입니다. ex) [[1, 2, 3, 4], [1, 5, 6]]\n",
        "- 조건 1: 어휘 사전(`self.word_dict`)에 없는 단어는 'oov'의 index로 변환합니다."
      ],
      "metadata": {
        "id": "njuc7woWsM_o"
      }
    },
    {
      "cell_type": "code",
      "source": [
        "import re\n",
        "\n",
        "class Tokenizer():\n",
        "  def __init__(self):\n",
        "    self.word_dict = {'oov': 0}\n",
        "    self.fit_checker = False\n",
        "  \n",
        "  def preprocessing(self, sequences):\n",
        "    result = []\n",
        "    regex = \"[^a-zA-Z0-9^]\"\n",
        "    subst = \" \"\n",
        "    # 정규식 적용\n",
        "    for i in sequences :\n",
        "      token = re.sub(regex, subst, i)\n",
        "      # 소문자로 치환\n",
        "      token = token.lower().split()\n",
        "      result.append(token)\n",
        "    return result\n",
        "  \n",
        "  def fit(self, sequences):\n",
        "    self.fit_checker = False\n",
        "    '''\n",
        "    문제 1-2.\n",
        "    '''\n",
        "    tokens=self.preprocessing(sequences)\n",
        "    \n",
        "    #순서대로 어휘 사전 작성 위해 count 정의\n",
        "    count=1\n",
        "    \n",
        "    for sent in tokens:   #문장 리스트에서 하나의 문장 가져오기\n",
        "      for word in sent:   #하나의 문장에서 하나의 단어 가져오기\n",
        "        if word not in self.word_dict.keys():   #어휘 사전에 단어가 없는 경우,\n",
        "          self.word_dict[word] = count   #순서대로 어휘 등록\n",
        "          count+=1  #등록된 다음 인덱스 번호를 더해줌\n",
        "        else:\n",
        "          pass\n",
        "    self.fit_checker = True\n",
        "  \n",
        "  def transform(self, sequences):\n",
        "    # 인덱싱 된 번호를 출력하기 위한 리스트 정의\n",
        "    result = []\n",
        "    tokens = self.preprocessing(sequences)\n",
        "    if self.fit_checker:\n",
        "      '''\n",
        "      문제 1-3.\n",
        "      '''\n",
        "      for sent in tokens:\n",
        "        encode = []   #하나의 문장의 단어들을 인덱싱하여 저장하기 위한 리스트 정의\n",
        "        for word in sent:\n",
        "          if word in self.word_dict.keys():\n",
        "            word = self.word_dict[word]   #정수 인덱싱\n",
        "          else:\n",
        "            word = self.word_dict['oov']   #oov의 값을 등록 안된 단어에 대입\n",
        "            '''\n",
        "            (참고용)아래의 코드를 사용하면 2개 이상의 등록되지 않은 단어도 다르게 사전에 등록하면서 사용가능.\n",
        "\n",
        "            self.word_dict['oov'] = len(word_dict)+1  # oov의 값을 사전에 등록된 값보다 1 크게 유지 #fit 과정에서 사용\n",
        "            self.word_dict[word] = self.word_dict['oov'] # 사전에 oov의 값으로 새로운 단어 등록\n",
        "            self_word_dict[word] += 1 # 사전에 등록된 값보다 1 크게 유지\n",
        "            '''\n",
        "          encode.append(word)   #한 문장안의 단어들을 인덱싱하여 저장\n",
        "        result.append(encode)   #인덱싱 된 리스트를 저장\n",
        "      return result\n",
        "    else:\n",
        "      raise Exception(\"Tokenizer instance is not fitted yet.\")\n",
        "      \n",
        "  def fit_transform(self, sequences):\n",
        "    self.fit(sequences)\n",
        "    result = self.transform(sequences)\n",
        "    return result"
      ],
      "metadata": {
        "id": "eYek4MMPtFE5"
      },
      "execution_count": 1,
      "outputs": []
    },
    {
      "cell_type": "code",
      "source": [
        "sequences=['I go to school.', 'I LIKE pizza!','i go to room!']\n",
        "tokenizer = Tokenizer()\n",
        "processing = tokenizer.preprocessing(sequences)\n",
        "print(\"전처리 과정 후 :\",processing)\n",
        "tokenizer.fit(sequences)\n",
        "trans = tokenizer.transform(sequences)\n",
        "print(\"정수 인덱싱 후 :\" ,trans)\n",
        "print(\"완성된 어휘 사전 :\",tokenizer.word_dict)"
      ],
      "metadata": {
        "colab": {
          "base_uri": "https://localhost:8080/"
        },
        "id": "ahDe6IlYNezu",
        "outputId": "fd52f0f8-6889-4bc2-a248-dd4c11cb2fa1"
      },
      "execution_count": 15,
      "outputs": [
        {
          "output_type": "stream",
          "name": "stdout",
          "text": [
            "전처리 과정 후 : [['i', 'go', 'to', 'school'], ['i', 'like', 'pizza'], ['i', 'go', 'to', 'room']]\n",
            "정수 인덱싱 후 : [[1, 2, 3, 4], [1, 5, 6], [1, 2, 3, 7]]\n",
            "완성된 어휘 사전 : {'oov': 0, 'i': 1, 'go': 2, 'to': 3, 'school': 4, 'like': 5, 'pizza': 6, 'room': 7}\n"
          ]
        }
      ]
    },
    {
      "cell_type": "markdown",
      "source": [
        "### **문제 2) TfidfVectorizer 생성하기**\n",
        "\n",
        "**2-1. `fit()`**\n",
        "\n",
        "입력 문장들을 이용해 IDF 행렬을 만드는 함수입니다.\n",
        "\n",
        "- input: 여러 영어 문장이 포함된 list 입니다. ex) ['I go to school.', 'I LIKE pizza!']\n",
        "- 조건 1: IDF 행렬은 list 형태입니다.\n",
        "    - ex) [토큰1에 대한 IDF 값, 토큰2에 대한 IDF 값, .... ]\n",
        "- 조건 2: IDF 값은 아래 식을 이용해 구합니다.\n",
        "    \n",
        "    $$\n",
        "    idf(d,t)=log_e(\\frac{n}{1+df(d,t)})\n",
        "    $$\n",
        "    \n",
        "    - $df(d,t)$ : 단어 t가 포함된 문장 d의 개수\n",
        "    - $n$ : 입력된 전체 문장 개수\n",
        "- 조건 3: 입력된 문장의 토큰화에는 문제 1에서 만든 Tokenizer를 사용합니다."
      ],
      "metadata": {
        "id": "sUruzbcMYEvI"
      }
    },
    {
      "cell_type": "markdown",
      "source": [
        "**2-2. `transform()`**\n",
        "\n",
        "입력 문장들을 이용해 TF-IDF 행렬을 만드는 함수입니다.\n",
        "\n",
        "- input: 여러 영어 문장이 포함된 list입니다. ex) ['I go to school.', 'I LIKE pizza!']\n",
        "- output : nested list 형태입니다.\n",
        "    \n",
        "    \n",
        "    |  | 토큰1 | 토큰2 | 토큰3 |\n",
        "    | --- | --- | --- | --- |\n",
        "    | 문장1 | tf-idf(1,1) | tf-idf(1,2) | tf-idf(1,3) |\n",
        "    | 문장2 | tf-idf(2,1) | tf-idf(2,2) | tf-idf(2,3) |\n",
        "- 조건1 : 입력 문장을 이용해 TF 행렬을 만드세요.\n",
        "    - $tf(d, t)$ : 문장 d에 단어 t가 나타난 횟수\n",
        "- 조건2 : 문제 2-1( `fit()`)에서 만든 IDF 행렬과 아래 식을 이용해 TF-IDF 행렬을 만드세요\n",
        "    \n",
        "    $$\n",
        "    tf-idf(d,t) = tf(d,t) \\times idf(d,t)\n",
        "    $$"
      ],
      "metadata": {
        "id": "8Pimn5IRYKs-"
      }
    },
    {
      "cell_type": "code",
      "source": [
        "### 하나의 고유한 토큰당 IDF가 나와야함 고쳐야할 부분\n",
        "from collections import Counter\n",
        "from math import log\n",
        "import pandas as pd\n",
        "\n",
        "class TfidfVectorizer:\n",
        "  def __init__(self, tokenizer):\n",
        "    self.tokenizer = tokenizer\n",
        "    self.fit_checker = False\n",
        "    self.N = len(sequences)\n",
        "    self.sequences=self.tokenizer.preprocessing(sequences)\n",
        "    self.vocab_IDF=[]\n",
        "\n",
        "  def fit(self, sequences):\n",
        "    tokenized = self.tokenizer.fit_transform(sequences)\n",
        "    '''\n",
        "    문제 2-1.\n",
        "    '''\n",
        "    # token 펼치기\n",
        "    tokenized = sum(tokenized, [])\n",
        "\n",
        "    # IDF 구하기 (log(N/1+DF))\n",
        "    for token in tokenized:\n",
        "      df = 0\n",
        "      for sent in self.sequences:\n",
        "        if sent.count(token) > 0 :\n",
        "          df += 1\n",
        "      self.vocab_IDF.append(log(self.N/(df+1)))\n",
        "    \n",
        "    self.fit_checker = True\n",
        "    \n",
        "\n",
        "  def transform(self, sequences):\n",
        "    if self.fit_checker:\n",
        "      tokenized = self.tokenizer.transform(sequences)\n",
        "      '''\n",
        "      문제 2-2.\n",
        "      '''\n",
        "      # token 펼치기\n",
        "      tokenized = sum(tokenized, [])\n",
        "\n",
        "      #TF-IDF 구하기 (tf * idf)\n",
        "\n",
        "      result =[]\n",
        "      for i in range(self.N):\n",
        "        result.append([])\n",
        "        sent = self.sequences[i]\n",
        "        for num in range(len(tokenized)) :\n",
        "          token = tokenized[num]\n",
        "          tf = sent.count(token)\n",
        "          idf = self.vocab_IDF[num]\n",
        "          result[-1].append(token*idf)\n",
        "\n",
        "      self.tfidf_matrix = result\n",
        "\n",
        "      return self.tfidf_matrix\n",
        "\n",
        "    else:\n",
        "      raise Exception(\"TfidfVectorizer instance is not fitted yet.\")\n",
        "\n",
        "  \n",
        "  def fit_transform(self, sequences):\n",
        "    self.fit(sequences)\n",
        "    return self.transform(sequences)"
      ],
      "metadata": {
        "id": "ogN89a1hYvH_"
      },
      "execution_count": 71,
      "outputs": []
    },
    {
      "cell_type": "code",
      "source": [
        "tfidf= TfidfVectorizer(tokenizer)"
      ],
      "metadata": {
        "id": "jpmbQGUXrVKq"
      },
      "execution_count": 72,
      "outputs": []
    },
    {
      "cell_type": "code",
      "source": [
        "tfidf.fit(sequences)"
      ],
      "metadata": {
        "id": "eNy5qZLOretc"
      },
      "execution_count": 73,
      "outputs": []
    },
    {
      "cell_type": "code",
      "source": [
        "tfidf.transform(sequences)"
      ],
      "metadata": {
        "colab": {
          "base_uri": "https://localhost:8080/"
        },
        "id": "lGoS-mL8s0ob",
        "outputId": "a9b311f3-a892-4133-afa9-2c465d7d44d7"
      },
      "execution_count": 74,
      "outputs": [
        {
          "output_type": "execute_result",
          "data": {
            "text/plain": [
              "[[1.0986122886681098,\n",
              "  2.1972245773362196,\n",
              "  3.295836866004329,\n",
              "  4.394449154672439,\n",
              "  1.0986122886681098,\n",
              "  5.493061443340549,\n",
              "  6.591673732008658,\n",
              "  1.0986122886681098,\n",
              "  2.1972245773362196,\n",
              "  3.295836866004329,\n",
              "  7.690286020676768],\n",
              " [1.0986122886681098,\n",
              "  2.1972245773362196,\n",
              "  3.295836866004329,\n",
              "  4.394449154672439,\n",
              "  1.0986122886681098,\n",
              "  5.493061443340549,\n",
              "  6.591673732008658,\n",
              "  1.0986122886681098,\n",
              "  2.1972245773362196,\n",
              "  3.295836866004329,\n",
              "  7.690286020676768],\n",
              " [1.0986122886681098,\n",
              "  2.1972245773362196,\n",
              "  3.295836866004329,\n",
              "  4.394449154672439,\n",
              "  1.0986122886681098,\n",
              "  5.493061443340549,\n",
              "  6.591673732008658,\n",
              "  1.0986122886681098,\n",
              "  2.1972245773362196,\n",
              "  3.295836866004329,\n",
              "  7.690286020676768]]"
            ]
          },
          "metadata": {},
          "execution_count": 74
        }
      ]
    }
  ]
}